{
 "cells": [
  {
   "cell_type": "markdown",
   "metadata": {},
   "source": [
    "## 说明\n",
    "\n",
    "请按照填空顺序编号分别完成 参数优化，不同基函数的实现"
   ]
  },
  {
   "cell_type": "code",
   "execution_count": 1,
   "metadata": {},
   "outputs": [],
   "source": [
    "import numpy as np\n",
    "import matplotlib.pyplot as plt\n",
    "\n",
    "def load_data(filename):\n",
    "    \"\"\"载入数据。\"\"\"\n",
    "    xys = []\n",
    "    with open(filename, 'r') as f:\n",
    "        for line in f:\n",
    "            # 1. 移除该行字符串的首尾空格或换行符\n",
    "            # 2. 将字符串按空格分割成多个部分, 返回一个列表\n",
    "            # 3. 将每个部分转换为浮点数, 返回一个映射对象\n",
    "            # 4. 将当前行的浮点数列表追加到 xys 列表中\n",
    "            xys.append(map(float, line.strip().split()))\n",
    "            \n",
    "        # 解压 xys 列表, 分别将所有行中的第一个值和第二个值分组, 形成两个元组 xs 和 ys\n",
    "        xs, ys = zip(*xys)\n",
    "\n",
    "        # 测试输出\n",
    "        # xs = np.asarray(xs)\n",
    "        # print(xs.shape)\n",
    "        #\n",
    "        # 输出:\n",
    "        # (300,)\n",
    "\n",
    "        # np.array 和 np.asarray 的区别\n",
    "        # 1. np.array 默认情况下总是会复制输入的数据, 即使输入已经是一个 NumPy 数组\n",
    "        # 2. 如果输入是一个 NumPy 数组, 并且其数据类型和要求一致. 则 np.asarray 返回的就是原数组, 不会创建新的副本\n",
    "        return np.asarray(xs), np.asarray(ys)\n",
    "\n",
    "# load_data(\"train.txt\")"
   ]
  },
  {
   "cell_type": "markdown",
   "metadata": {},
   "source": [
    "## 不同的基函数 (basis function)的实现 填空顺序 2\n",
    "\n",
    "请分别在这里实现“多项式基函数”以及“高斯基函数”\n",
    "\n",
    "其中以及训练集的x的范围在0-25之间"
   ]
  },
  {
   "cell_type": "code",
   "execution_count": 6,
   "metadata": {},
   "outputs": [
    {
     "name": "stdout",
     "output_type": "stream",
     "text": [
      "[[9.37254896e-01 8.14810262e-01 2.60591821e-01 3.06598898e-02\n",
      "  1.32704581e-03 2.11303534e-05 1.23775054e-07 2.66725787e-10\n",
      "  2.11447427e-13 6.16659351e-17]\n",
      " [7.71668674e-01 9.61558378e-01 4.40784141e-01 7.43330209e-02\n",
      "  4.61150966e-03 1.05247062e-04 8.83654224e-07 2.72935642e-09\n",
      "  3.10129919e-12 1.29638082e-15]\n",
      " [5.58109555e-01 9.96805115e-01 6.54947630e-01 1.58310023e-01\n",
      "  1.40771833e-02 4.60498942e-04 5.54175123e-06 2.45341454e-08\n",
      "  3.99576889e-11 2.39406151e-14]\n",
      " [3.54587549e-01 9.07737535e-01 8.54875017e-01 2.96176417e-01\n",
      "  3.77488601e-02 1.76995705e-03 3.05300229e-05 1.93730077e-07\n",
      "  4.52243665e-10 3.88376952e-13]]\n"
     ]
    },
    {
     "data": {
      "text/plain": [
       "'\\n[[      1       1       1       1       1       1       1       1       1\\n        1]\\n [      2       4       8      16      32      64     128     256     512\\n     1024]\\n [      3       9      27      81     243     729    2187    6561   19683\\n    59049]\\n [      4      16      64     256    1024    4096   16384   65536  262144\\n  1048576]]\\n'"
      ]
     },
     "execution_count": 6,
     "metadata": {},
     "output_type": "execute_result"
    }
   ],
   "source": [
    "# 扩展维度函数\n",
    "# 通过指定的 axis 参数, 向数组的第 1 个维度 (索引从 0 开始) 插入一个新的维度\n",
    "# 若输入数组 x 的形状为 (m,), 则扩展后形状变为 (m, 1)\n",
    "# 若输入数组 x 的形状为 (m, n), 则扩展后形状变为 (m, 1, n)\n",
    "def identity_basis(x):\n",
    "    ret = np.expand_dims(x, axis=1)\n",
    "    return ret\n",
    "\n",
    "# 代码来源: linear_regression-tf2.0.ipynb\n",
    "def multinomial_basis(x, feature_num=10):\n",
    "    '''多项式基函数'''\n",
    "    x = np.expand_dims(x, axis=1) # shape(N, 1)\n",
    "    #==========\n",
    "    #todo '''请实现多项式基函数'''\n",
    "    #==========\n",
    "    feat = [x]\n",
    "    for i in range(2, feature_num + 1):\n",
    "        feat.append(x ** i)\n",
    "    ret = np.concatenate(feat, axis=1)\n",
    "    return ret\n",
    "\n",
    "# 代码来源: linear_regression-tf2.0.ipynb\n",
    "def gaussian_basis(x, feature_num=10):\n",
    "    '''高斯基函数'''\n",
    "    #==========\n",
    "    #todo '''请实现高斯基函数'''\n",
    "    #==========\n",
    "    centers = np.linspace(0, 25, feature_num)\n",
    "    width = 1.0 * (centers[1] - centers[0])\n",
    "    x = np.expand_dims(x, axis=1)\n",
    "    x = np.concatenate([x] * feature_num, axis=1)\n",
    "    out = (x - centers) / width\n",
    "    ret = np.exp(-0.5 * out ** 2)\n",
    "    return ret\n",
    "\n",
    "# 测试输出\n",
    "# x = np.array([1, 2, 3, 4])\n",
    "# print(multinomial_basis(x))\n",
    "# print(gaussian_basis(x))\n",
    "# 输出:\n",
    "'''\n",
    "[[      1       1       1       1       1       1       1       1       1\n",
    "        1]\n",
    " [      2       4       8      16      32      64     128     256     512\n",
    "     1024]\n",
    " [      3       9      27      81     243     729    2187    6561   19683\n",
    "    59049]\n",
    " [      4      16      64     256    1024    4096   16384   65536  262144\n",
    "  1048576]]\n",
    "\n",
    "[[9.37254896e-01 8.14810262e-01 2.60591821e-01 3.06598898e-02\n",
    "  1.32704581e-03 2.11303534e-05 1.23775054e-07 2.66725787e-10\n",
    "  2.11447427e-13 6.16659351e-17]\n",
    " [7.71668674e-01 9.61558378e-01 4.40784141e-01 7.43330209e-02\n",
    "  4.61150966e-03 1.05247062e-04 8.83654224e-07 2.72935642e-09\n",
    "  3.10129919e-12 1.29638082e-15]\n",
    " [5.58109555e-01 9.96805115e-01 6.54947630e-01 1.58310023e-01\n",
    "  1.40771833e-02 4.60498942e-04 5.54175123e-06 2.45341454e-08\n",
    "  3.99576889e-11 2.39406151e-14]\n",
    " [3.54587549e-01 9.07737535e-01 8.54875017e-01 2.96176417e-01\n",
    "  3.77488601e-02 1.76995705e-03 3.05300229e-05 1.93730077e-07\n",
    "  4.52243665e-10 3.88376952e-13]]\n",
    "'''"
   ]
  },
  {
   "cell_type": "markdown",
   "metadata": {},
   "source": [
    "## 返回一个训练好的模型 填空顺序 1 用最小二乘法进行模型优化 \n",
    "## 填空顺序 3 用梯度下降进行模型优化\n",
    "> 先完成最小二乘法的优化 (参考书中第二章 2.3中的公式)\n",
    "\n",
    "> 再完成梯度下降的优化   (参考书中第二章 2.3中的公式)\n",
    "\n",
    "在main中利用训练集训练好模型的参数，并且返回一个训练好的模型。\n",
    "\n",
    "计算出一个优化后的w，请分别使用最小二乘法以及梯度下降两种办法优化w"
   ]
  },
  {
   "cell_type": "code",
   "execution_count": 3,
   "metadata": {},
   "outputs": [],
   "source": [
    "def least_square(X, y):\n",
    "    # 最小二乘法公式 (Markdown 语法): w^{*} = (XX^{T})^{-1}Xy\n",
    "    # 此处假设 XX^{T} 存在逆矩阵\n",
    "    # @ 是矩阵乘法运算符 (Python 版本 3.5 及以上), 等价于 np.dot\n",
    "    xxt = X @ X.T\n",
    "    xxt_inverse = np.linalg.inv(xxt)\n",
    "    w = xxt_inverse @ X @ y\n",
    "    return w"
   ]
  },
  {
   "cell_type": "code",
   "execution_count": 4,
   "metadata": {},
   "outputs": [],
   "source": [
    "def gradient_descent(X, y, alpha=0.01, max_iter=10000, tolerance=1e-4):\n",
    "    # 梯度下降公式 (Markdown 语法): w <- w + \\alpha X(y - X^{T}w)\n",
    "    # 初始时, w 为零向量\n",
    "    # 适用于 XX^{T} 不存在逆矩阵的情况\n",
    "    #\n",
    "    #==========定义相关超参数==========\n",
    "    # 学习率: alpha\n",
    "    # 迭代次数: max_iter\n",
    "    # 容忍度: tolerance, 若错误率不再下降 (差值在容忍度内), 则提前停止训练\n",
    "    #=================================\n",
    "    w = np.zeros((X.shape[0], 1))\n",
    "\n",
    "    for i in range(max_iter):\n",
    "        # 更新 w\n",
    "        y_pred = X.T @ w\n",
    "        error = y - y_pred\n",
    "        gradient = X @ error / y.shape[0]\n",
    "        w += alpha * gradient\n",
    "\n",
    "        # 判断是否可以提前停止训练\n",
    "        if np.linalg.norm(gradient) < tolerance:\n",
    "            print(f\"梯度下降在第 {i+1} 次迭代后收敛.\")\n",
    "            break\n",
    "    \n",
    "    else:\n",
    "        print(\"梯度下降达到最大迭代次数, 未完全收敛.\")\n",
    "    \n",
    "    return w"
   ]
  },
  {
   "cell_type": "code",
   "execution_count": 5,
   "metadata": {},
   "outputs": [],
   "source": [
    "def main(x_train, y_train):\n",
    "    \"\"\"\n",
    "    训练模型，并返回从x到y的映射。\n",
    "    \n",
    "    输入:\n",
    "    x_train: shape(N, )\n",
    "    y_train: shape(N, )\n",
    "    \"\"\"\n",
    "\n",
    "    # 给扩展维度函数 identity_basis 起别名为 basis_func\n",
    "    basis_func = identity_basis\n",
    "\n",
    "    # 构造常数项特征 phi0, 形状为 (n, 1), 值全为 1\n",
    "    phi0 = np.expand_dims(np.ones_like(x_train), axis=1)\n",
    "\n",
    "    # 将 x_train 转换为二维数组 phi1, 形状为 (n, 1)\n",
    "    phi1 = basis_func(x_train)\n",
    "\n",
    "    # 将 phi0 和 phi1 按列拼接, 形状为 (n, 2)\n",
    "    # 每一行对应一个样本, 第一列为常数项 1, 第二列为样本的输入特征值\n",
    "    phi = np.concatenate([phi0, phi1], axis=1)\n",
    "\n",
    "    y = basis_func(y_train)\n",
    "\n",
    "    # 测试输出\n",
    "    # print(phi)\n",
    "    # print(phi.shape)\n",
    "    #\n",
    "    # 输出:\n",
    "    '''\n",
    "    [[ 1.    2.65]\n",
    "    [ 1.    4.7 ]\n",
    "    [ 1.   14.25]\n",
    "    ...\n",
    "    [ 1.    5.2 ]\n",
    "    [ 1.   10.1 ]\n",
    "    [ 1.    1.55]]\n",
    "    (300, 2)\n",
    "    '''\n",
    "\n",
    "\n",
    "\n",
    "    #==========\n",
    "    #todo '''计算出一个优化后的w，请分别使用最小二乘法以及梯度下降两种办法优化w'''\n",
    "    #==========\n",
    "\n",
    "    # 最小二乘法\n",
    "    # 需要将 phi 转置以应用公式, 即 phi 的形状为 (2, n)\n",
    "    # w = least_square(phi.T, y)\n",
    "\n",
    "    # 梯度下降\n",
    "    # 仍然需要将 phi 转置以应用公式\n",
    "    w = gradient_descent(phi.T, y)\n",
    "    \n",
    "\n",
    "\n",
    "    # 给定样本 x 进行预测 (线性回归)\n",
    "    def f(x):\n",
    "        phi0 = np.expand_dims(np.ones_like(x), axis=1)\n",
    "        phi1 = basis_func(x)\n",
    "        phi = np.concatenate([phi0, phi1], axis=1)\n",
    "        y = np.dot(phi, w)\n",
    "        return y\n",
    "\n",
    "    return f\n",
    "\n",
    "# x_train, y_train = load_data(\"train.txt\")\n",
    "# main(x_train=x_train, y_train=y_train)"
   ]
  },
  {
   "cell_type": "markdown",
   "metadata": {},
   "source": [
    "## 评估结果 \n",
    "> 没有需要填写的代码，但是建议读懂"
   ]
  },
  {
   "cell_type": "code",
   "execution_count": 6,
   "metadata": {},
   "outputs": [
    {
     "name": "stdout",
     "output_type": "stream",
     "text": [
      "(300,)\n",
      "(200,)\n",
      "梯度下降在第 2807 次迭代后收敛.\n",
      "训练集预测值与真实值的标准差：9.8\n",
      "预测值与真实值的标准差：9.9\n"
     ]
    },
    {
     "data": {
      "image/png": "[encoded data removed]",
      "text/plain": [
       "<Figure size 640x480 with 1 Axes>"
      ]
     },
     "metadata": {},
     "output_type": "display_data"
    }
   ],
   "source": [
    "def evaluate(ys, ys_pred):\n",
    "    \"\"\"评估模型。\"\"\"\n",
    "    # 计算预测误差的标准差\n",
    "    std = np.sqrt(np.mean(np.abs(ys - ys_pred) ** 2))\n",
    "    return std\n",
    "\n",
    "# 程序主入口（建议不要改动以下函数的接口）\n",
    "if __name__ == '__main__':\n",
    "    train_file = 'train.txt'\n",
    "    test_file = 'test.txt'\n",
    "    # 载入数据\n",
    "    x_train, y_train = load_data(train_file)\n",
    "    x_test, y_test = load_data(test_file)\n",
    "    print(x_train.shape)\n",
    "    print(x_test.shape)\n",
    "\n",
    "    # 使用线性回归训练模型，返回一个函数f()使得y = f(x)\n",
    "    f = main(x_train, y_train)\n",
    "\n",
    "    y_train_pred = f(x_train)\n",
    "    std = evaluate(y_train, y_train_pred)\n",
    "    print('训练集预测值与真实值的标准差：{:.1f}'.format(std))\n",
    "    \n",
    "    # 计算预测的输出值\n",
    "    y_test_pred = f(x_test)\n",
    "    # 使用测试集评估模型\n",
    "    std = evaluate(y_test, y_test_pred)\n",
    "    print('预测值与真实值的标准差：{:.1f}'.format(std))\n",
    "\n",
    "    #显示结果\n",
    "    plt.plot(x_train, y_train, 'ro', markersize=3)\n",
    "#     plt.plot(x_test, y_test, 'k')\n",
    "    plt.plot(x_test, y_test_pred, 'k')\n",
    "    plt.xlabel('x')\n",
    "    plt.ylabel('y')\n",
    "    plt.title('Linear Regression')\n",
    "    plt.legend(['train', 'test', 'pred'])\n",
    "    plt.show()"
   ]
  },
  {
   "cell_type": "code",
   "execution_count": null,
   "metadata": {},
   "outputs": [],
   "source": []
  }
 ],
 "metadata": {
  "kernelspec": {
   "display_name": "exercise",
   "language": "python",
   "name": "python3"
  },
  "language_info": {
   "codemirror_mode": {
    "name": "ipython",
    "version": 3
   },
   "file_extension": ".py",
   "mimetype": "text/x-python",
   "name": "python",
   "nbconvert_exporter": "python",
   "pygments_lexer": "ipython3",
   "version": "3.12.8"
  },
  "pycharm": {
   "stem_cell": {
    "cell_type": "raw",
    "metadata": {
     "collapsed": false
    },
    "source": []
   }
  }
 },
 "nbformat": 4,
 "nbformat_minor": 2
}
